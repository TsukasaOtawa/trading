{
 "cells": [
  {
   "cell_type": "code",
   "execution_count": 4,
   "metadata": {},
   "outputs": [],
   "source": [
    "import buffett_code_com as bc\n",
    "\n",
    "import json\n",
    "import pandas as pd\n",
    "from datetime import *"
   ]
  },
  {
   "cell_type": "code",
   "execution_count": 5,
   "metadata": {},
   "outputs": [
    {
     "data": {
      "text/html": [
       "<div>\n",
       "<style scoped>\n",
       "    .dataframe tbody tr th:only-of-type {\n",
       "        vertical-align: middle;\n",
       "    }\n",
       "\n",
       "    .dataframe tbody tr th {\n",
       "        vertical-align: top;\n",
       "    }\n",
       "\n",
       "    .dataframe thead th {\n",
       "        text-align: right;\n",
       "    }\n",
       "</style>\n",
       "<table border=\"1\" class=\"dataframe\">\n",
       "  <thead>\n",
       "    <tr style=\"text-align: right;\">\n",
       "      <th></th>\n",
       "      <th>stockprice</th>\n",
       "      <th>trading_volume</th>\n",
       "      <th>num_of_shares</th>\n",
       "      <th>market_capital</th>\n",
       "      <th>enterprise_value</th>\n",
       "      <th>eps_forecast</th>\n",
       "      <th>eps_actual</th>\n",
       "      <th>per_forecast</th>\n",
       "      <th>bps</th>\n",
       "      <th>pbr</th>\n",
       "      <th>...</th>\n",
       "      <th>net_debt_net_income_ratio</th>\n",
       "      <th>equity</th>\n",
       "      <th>equity_ratio</th>\n",
       "      <th>free_cash_flow</th>\n",
       "      <th>cash_market_capital_ratio</th>\n",
       "      <th>cash_assets_ratio</th>\n",
       "      <th>cash_monthly_sales_ratio</th>\n",
       "      <th>accrual</th>\n",
       "      <th>day</th>\n",
       "      <th>listing_years</th>\n",
       "    </tr>\n",
       "  </thead>\n",
       "  <tbody>\n",
       "    <tr>\n",
       "      <th>0</th>\n",
       "      <td>65860.0</td>\n",
       "      <td>687300.0</td>\n",
       "      <td>119123370.0</td>\n",
       "      <td>7.845465e+12</td>\n",
       "      <td>6.852800e+12</td>\n",
       "      <td>2518.397524</td>\n",
       "      <td>2171.202846</td>\n",
       "      <td>26.15155</td>\n",
       "      <td>14016.065865</td>\n",
       "      <td>4.698893</td>\n",
       "      <td>...</td>\n",
       "      <td>-3.838003</td>\n",
       "      <td>1.669641e+12</td>\n",
       "      <td>75.495392</td>\n",
       "      <td>3.575960e+11</td>\n",
       "      <td>12.652723</td>\n",
       "      <td>44.884879</td>\n",
       "      <td>9.103406</td>\n",
       "      <td>-8.992400e+10</td>\n",
       "      <td>2021-01-19T00:00:00.000Z</td>\n",
       "      <td>59.0</td>\n",
       "    </tr>\n",
       "  </tbody>\n",
       "</table>\n",
       "<p>1 rows × 71 columns</p>\n",
       "</div>"
      ],
      "text/plain": [
       "   stockprice  trading_volume  num_of_shares  market_capital  \\\n",
       "0     65860.0        687300.0    119123370.0    7.845465e+12   \n",
       "\n",
       "   enterprise_value  eps_forecast   eps_actual  per_forecast           bps  \\\n",
       "0      6.852800e+12   2518.397524  2171.202846      26.15155  14016.065865   \n",
       "\n",
       "        pbr  ...  net_debt_net_income_ratio        equity  equity_ratio  \\\n",
       "0  4.698893  ...                  -3.838003  1.669641e+12     75.495392   \n",
       "\n",
       "   free_cash_flow  cash_market_capital_ratio  cash_assets_ratio  \\\n",
       "0    3.575960e+11                  12.652723          44.884879   \n",
       "\n",
       "   cash_monthly_sales_ratio       accrual                       day  \\\n",
       "0                  9.103406 -8.992400e+10  2021-01-19T00:00:00.000Z   \n",
       "\n",
       "   listing_years  \n",
       "0           59.0  \n",
       "\n",
       "[1 rows x 71 columns]"
      ]
     },
     "execution_count": 5,
     "metadata": {},
     "output_type": "execute_result"
    }
   ],
   "source": [
    "# current\n",
    "def generate_df_c(ticker:str):\n",
    "    res_c = bc.fetch(bc.API_ENDPOINT_INDICATOR, ticker, None, None)\n",
    "    json_data_c = json.loads(res_c.text)\n",
    "    df_c= pd.DataFrame.from_dict(json_data_c[ticker]) \n",
    "    return df_c\n",
    "\n",
    "df_c = generate_df_c(\"7974\")\n",
    "df_c"
   ]
  },
  {
   "cell_type": "code",
   "execution_count": null,
   "metadata": {},
   "outputs": [],
   "source": []
  }
 ],
 "metadata": {
  "kernelspec": {
   "display_name": "Python 3",
   "language": "python",
   "name": "python3"
  },
  "language_info": {
   "codemirror_mode": {
    "name": "ipython",
    "version": 3
   },
   "file_extension": ".py",
   "mimetype": "text/x-python",
   "name": "python",
   "nbconvert_exporter": "python",
   "pygments_lexer": "ipython3",
   "version": "3.8.5"
  }
 },
 "nbformat": 4,
 "nbformat_minor": 4
}
