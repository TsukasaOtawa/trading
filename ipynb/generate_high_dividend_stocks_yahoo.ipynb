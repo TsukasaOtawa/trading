{
 "cells": [
  {
   "cell_type": "code",
   "execution_count": 7,
   "metadata": {},
   "outputs": [],
   "source": [
    "from yahoo import ylib\n",
    "from pathlib import Path\n",
    "from datetime import date\n",
    "import pandas as pd"
   ]
  },
  {
   "cell_type": "code",
   "execution_count": 12,
   "metadata": {},
   "outputs": [],
   "source": [
    "import requests\n",
    "from bs4 import BeautifulSoup\n",
    "import urllib\n",
    "import time\n",
    "\n",
    "PAGE_START = 1\n",
    "PAGE_END = 6\n",
    "COLUMNS = ['rank','ticker','market','name','date_time','stock_price','fiscal_month','DPS','dividend','掲示板']\n",
    "\n",
    "# P1 - P6(300社分) HTML取得\n",
    "def get_ranking_html(kd:int, out_dir:str):\n",
    "    for page in list(range(PAGE_START,PAGE_END)):\n",
    "        load_url = f\"https://info.finance.yahoo.co.jp/ranking/?kd={kd}&tm=d&vl=a&mk=1&p={page}\"\n",
    "        html = requests.get(load_url)\n",
    "        filename = f\"{page}.html\"\n",
    "        out_path = out_dir.joinpath(filename)\n",
    "        with open(out_path, mode=\"wb\") as f:\n",
    "            f.write(html.content)\n",
    "        time.sleep\n",
    "\n",
    "def get_stocks(out_dir:str, page):\n",
    "    filename = f\"{page}.html\"\n",
    "    file_path = out_dir.joinpath(filename)\n",
    "    with open(file_path, mode=\"r\") as f:\n",
    "        html = f.read()\n",
    "        soup = BeautifulSoup(html, \"html.parser\")\n",
    "        rankingTable = soup.find(class_=\"rankingTable\")\n",
    "        stocks = []\n",
    "        for tr in rankingTable.find_all(\"tr\", class_=\"rankingTabledata\"):\n",
    "            stock = []\n",
    "            for data in tr.find_all(\"td\"):\n",
    "                stock.append(data.text)\n",
    "            stocks.append(stock)\n",
    "    return stocks"
   ]
  },
  {
   "cell_type": "code",
   "execution_count": 63,
   "metadata": {},
   "outputs": [],
   "source": [
    "# generate high_diviends html from yahoo\n",
    "# 8 : high_diviends\n",
    "kd_idx = 8\n",
    "kd_name = \"high_diviends\"\n",
    "\n",
    "day = date.today().strftime(\"%Y%m%d\")\n",
    "out_dir = Path(f\"html/{kd_name}/{day}/\")\n",
    "out_dir.mkdir(exist_ok=True)\n",
    "\n",
    "# get_ranking_html(kd_idx, out_dir)\n",
    "df_stock = pd.DataFrame()\n",
    "\n",
    "# for page in list(range(PAGE_START, PAGE_END)):\n",
    "df_concat = pd.DataFrame()\n",
    "for page in list(range(PAGE_START, PAGE_END)):\n",
    "    df_stock   = get_stocks(out_dir, 1)\n",
    "    df_stock   = pd.DataFrame(df_stock, columns=COLUMNS)\n",
    "    df_stock   = df_stock.drop(\"掲示板\", axis=1)\n",
    "    df_stock   = df_stock.drop(\"date_time\", axis=1)\n",
    "    df_stock[\"date\"] = day\n",
    "    df_concat = pd.concat([df_concat,df_stock], ignore_index=True)\n",
    "df_concat"
   ]
  },
  {
   "cell_type": "code",
   "execution_count": 13,
   "metadata": {},
   "outputs": [],
   "source": [
    "# Dynamo DB への保存"
   ]
  },
  {
   "cell_type": "code",
   "execution_count": null,
   "metadata": {},
   "outputs": [],
   "source": [
    "# Key フォーマットの調整\n",
    "df_concat[\"rank\"] = df_concat[\"rank\"].astype(int)"
   ]
  },
  {
   "cell_type": "code",
   "execution_count": 88,
   "metadata": {},
   "outputs": [],
   "source": [
    "import boto3\n",
    "from boto3.dynamodb.conditions import Key # Boto 3 SDK によって Attr が自動的に作成される\n",
    "\n",
    "def store_stocks(stocks:pd.DataFrame, dynamodb=None):\n",
    "    if not dynamodb:\n",
    "        dynamodb = boto3.resource('dynamodb', endpoint_url=\"http://localhost:8000\")\n",
    "    table = dynamodb.Table('HighDividends')\n",
    "    for index, row in stocks.iterrows():\n",
    "        table.put_item(Item=row.to_dict())\n",
    "\n",
    "store_stocks(df_concat)"
   ]
  },
  {
   "cell_type": "code",
   "execution_count": null,
   "metadata": {},
   "outputs": [],
   "source": []
  }
 ],
 "metadata": {
  "kernelspec": {
   "display_name": "Python 3",
   "language": "python",
   "name": "python3"
  },
  "language_info": {
   "codemirror_mode": {
    "name": "ipython",
    "version": 3
   },
   "file_extension": ".py",
   "mimetype": "text/x-python",
   "name": "python",
   "nbconvert_exporter": "python",
   "pygments_lexer": "ipython3",
   "version": "3.8.5"
  }
 },
 "nbformat": 4,
 "nbformat_minor": 4
}
